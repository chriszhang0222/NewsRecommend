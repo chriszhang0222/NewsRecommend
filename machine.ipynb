{
 "cells": [
  {
   "cell_type": "code",
   "execution_count": 2,
   "metadata": {},
   "outputs": [],
   "source": [
    "import pandas as pd\n",
    "import tensorflow as tf"
   ]
  },
  {
   "cell_type": "code",
   "execution_count": 4,
   "metadata": {
    "pycharm": {
     "name": "#%%\n"
    }
   },
   "outputs": [],
   "source": [
    "import pandas as pd\n",
    "\n",
    "DATA_SET_FILE = './labeled_news.csv'\n",
    "\n",
    "df = pd.read_csv(DATA_SET_FILE, header=None)"
   ]
  },
  {
   "cell_type": "code",
   "execution_count": 5,
   "metadata": {
    "pycharm": {
     "name": "#%%\n"
    },
    "scrolled": true
   },
   "outputs": [
    {
     "name": "stdout",
     "output_type": "stream",
     "text": [
      "   0                                                  1  \\\n",
      "0  4  The Israel-UAE Deal Would Benefit From a Biden...   \n",
      "1  2      Will the Coronavirus Turn Out Green or Brown?   \n",
      "2  1  Coach Doc Rivers says he'll take blame after L...   \n",
      "3  1  Nuggets call for some 'respect' after upending...   \n",
      "4  1  Bam Adebayo's stunning block preserves win for...   \n",
      "5  1  Boston Celtics' Kemba Walker says he needs to ...   \n",
      "6  1  Sources -- Saints expect WR Michael Thomas to ...   \n",
      "7  1  San Francisco 49ers condemn racist messages se...   \n",
      "8  1  Next for the LA Clippers - Paul George's futur...   \n",
      "9  4  Trump's big lies reveal a truth: Right-wing sc...   \n",
      "\n",
      "                                                   2            3  \n",
      "0  He would be better placed than President Trump...    Bloomberg  \n",
      "1  It’s too early to say what role the pandemic w...    Bloomberg  \n",
      "2  After the Clippers were eliminated from the pl...         espn  \n",
      "3  On coach Mike Malone's 49th birthday, the unde...         espn  \n",
      "4  Bam Adebayo made a memorable block at the end ...         espn  \n",
      "5  \"I'm just playing terrible, to be honest,\" Kem...         espn  \n",
      "6  The Saints expect Michael Thomas to miss Monda...         espn  \n",
      "7  The San Francisco 49ers publicly condemned the...         espn  \n",
      "8  After their big disappointment, the Clippers h...         espn  \n",
      "9  Conservatives have been gaslighting the public...  google-news  \n"
     ]
    }
   ],
   "source": [
    "print(df.head(10))"
   ]
  },
  {
   "cell_type": "code",
   "execution_count": 1,
   "metadata": {
    "pycharm": {
     "name": "#%%\n"
    }
   },
   "outputs": [],
   "source": []
  },
  {
   "cell_type": "code",
   "execution_count": null,
   "metadata": {},
   "outputs": [],
   "source": []
  }
 ],
 "metadata": {
  "kernelspec": {
   "display_name": "Python 3",
   "language": "python",
   "name": "python3"
  },
  "language_info": {
   "codemirror_mode": {
    "name": "ipython",
    "version": 3
   },
   "file_extension": ".py",
   "mimetype": "text/x-python",
   "name": "python",
   "nbconvert_exporter": "python",
   "pygments_lexer": "ipython3",
   "version": "3.7.6"
  }
 },
 "nbformat": 4,
 "nbformat_minor": 1
}
